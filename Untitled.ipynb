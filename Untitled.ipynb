{
 "cells": [
  {
   "cell_type": "raw",
   "id": "b36ce62b",
   "metadata": {},
   "source": [
    "!pip install --upgrade sagemaker\n",
    "!pip install torch\n",
    "!pip install torchvision"
   ]
  },
  {
   "cell_type": "code",
   "execution_count": 6,
   "id": "40ea36fd",
   "metadata": {},
   "outputs": [],
   "source": [
    "import ast\n",
    "import boto3\n",
    "import numpy as np\n",
    "import os\n",
    "import sagemaker\n",
    "import torch\n",
    "import torchvision\n",
    "from sagemaker.pytorch.model import PyTorchModel\n",
    "\n",
    "from urllib.parse import urlparse\n",
    "from torchvision.io import read_image\n",
    "from torchvision.utils import draw_bounding_boxes"
   ]
  },
  {
   "cell_type": "code",
   "execution_count": 7,
   "id": "b6313930",
   "metadata": {},
   "outputs": [],
   "source": [
    "sagemaker_session = sagemaker.Session()\n",
    "default_bucket = sagemaker_session.default_bucket()\n",
    "aws_region = boto3.Session().region_name\n",
    "role_arn = sagemaker.get_execution_role()"
   ]
  },
  {
   "cell_type": "code",
   "execution_count": 8,
   "id": "390911fe",
   "metadata": {},
   "outputs": [],
   "source": [
    "INSTANCE_TYPE = \"ml.t2.medium\"\n",
    "INSTANCE_COUNT = 1\n",
    "BUCKET = os.path.join(\"s3://\", default_bucket)\n",
    "\n",
    "DATA_PATH = os.path.join(BUCKET, \"images\")\n",
    "IMAGE_NAME = \"gun_example.jpg\"\n",
    "RANDOM_STRING_LENGTH = 16\n",
    "MODEL_NAME = \"YoloV8\"\n",
    "\n",
    "# Needs to be set to version 1.2 or higher to enable automatic PyTorch model repackaging\n",
    "FRAMEWORK_VERSION = \"1.2\"\n",
    "ENTRY_POINT_FILE_NAME = \"inference.py\"\n",
    "\n",
    "SAGEMAKER_EXECUTION_ROLE_ARN = role_arn\n",
    "MODEL_ARTIFACTS_FILE_NAME = os.path.join(BUCKET, \"models/model.tar.gz\")\n",
    "IMAGE_URI = sagemaker.image_uris.retrieve(\n",
    "    framework=\"pytorch\",\n",
    "    region=aws_region,\n",
    "    version=\"1.9.1\",\n",
    "    py_version=\"py38\",\n",
    "    image_scope=\"inference\",\n",
    "    instance_type=INSTANCE_TYPE,\n",
    ")"
   ]
  },
  {
   "cell_type": "code",
   "execution_count": 9,
   "id": "45acedef",
   "metadata": {},
   "outputs": [],
   "source": [
    "model = PyTorchModel(\n",
    "    name=MODEL_NAME,\n",
    "    model_data=MODEL_ARTIFACTS_FILE_NAME,\n",
    "    entry_point=ENTRY_POINT_FILE_NAME,\n",
    "    framework_version=FRAMEWORK_VERSION,\n",
    "    role=SAGEMAKER_EXECUTION_ROLE_ARN,\n",
    "    sagemaker_session=sagemaker_session,\n",
    "    image_uri=IMAGE_URI,\n",
    ")"
   ]
  },
  {
   "cell_type": "code",
   "execution_count": 10,
   "id": "8dd50827",
   "metadata": {},
   "outputs": [
    {
     "name": "stderr",
     "output_type": "stream",
     "text": [
      "Using already existing model: YoloV8\n"
     ]
    }
   ],
   "source": [
    "transformer = model.transformer(instance_type=INSTANCE_TYPE, instance_count=INSTANCE_COUNT)"
   ]
  },
  {
   "cell_type": "code",
   "execution_count": null,
   "id": "682a9d30",
   "metadata": {},
   "outputs": [],
   "source": []
  }
 ],
 "metadata": {
  "kernelspec": {
   "display_name": "conda_pytorch_p310",
   "language": "python",
   "name": "conda_pytorch_p310"
  },
  "language_info": {
   "codemirror_mode": {
    "name": "ipython",
    "version": 3
   },
   "file_extension": ".py",
   "mimetype": "text/x-python",
   "name": "python",
   "nbconvert_exporter": "python",
   "pygments_lexer": "ipython3",
   "version": "3.10.10"
  }
 },
 "nbformat": 4,
 "nbformat_minor": 5
}
